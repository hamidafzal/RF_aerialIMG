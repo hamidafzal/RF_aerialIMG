{
 "cells": [
  {
   "cell_type": "markdown",
   "id": "075d6bda-3b55-4b3a-8f84-a2d513e8395b",
   "metadata": {},
   "source": [
    "## Linear Discriminant Analysis"
   ]
  },
  {
   "cell_type": "code",
   "execution_count": null,
   "id": "8c345982-0b83-4866-ba91-8be6f8d17f57",
   "metadata": {},
   "outputs": [],
   "source": []
  },
  {
   "cell_type": "code",
   "execution_count": null,
   "id": "531511c6-e781-40f9-a8a8-97e16f7d452e",
   "metadata": {},
   "outputs": [],
   "source": [
    "from sklearn.discriminant_analysis import LinearDiscriminantAnalysis\n",
    "import matplotlib.pyplot as plt\n",
    "# class_labels_mapping = {\n",
    "#     1:'buildup',\n",
    "#     2: 'road',\n",
    "#     3: 'crop',\n",
    "#     4: 'water',\n",
    "#     5: 'bareland',\n",
    "#     6: 'grass',\n",
    "#     7: 'Young Vegetation',\n",
    "#     8: 'Mature Vegetation',\n",
    "\n",
    "# }\n",
    "\n",
    "class_labels_mapping = {\n",
    "\n",
    "# Define classes\n",
    "\n",
    "}\n",
    "\n",
    "X = df[f_name].values\n",
    "y = df[label].values\n",
    "lda = LinearDiscriminantAnalysis()\n",
    "lda.fit(X, y)\n",
    "\n",
    "# Calculate class separability scores\n",
    "separability_scores = lda.coef_[0]\n",
    "feature_importance = [(feature, abs(score)) for feature, score in zip(f_name, separability_scores)]\n",
    "\n",
    "# Normalize the feature importances\n",
    "total_importance = sum(abs(score) for (_, score) in feature_importance)\n",
    "normalized_feature_importance = [(feature, abs(score) / total_importance) for feature, score in feature_importance]\n",
    "\n",
    "# Sort the normalized feature importances in descending order\n",
    "normalized_feature_importance.sort(key=lambda x: x[1], reverse=True)\n",
    "print(\"Features Importances( %)\\n\")\n",
    "# Print feature importances as percentages\n",
    "\n",
    "for rank, (feature, score) in enumerate(normalized_feature_importance, start=1):\n",
    "    print(f\"{feature:<20}  {round(score * 100, 2)/100}\")\n",
    "\n",
    "X_lda = lda.fit_transform(X, y)\n",
    "\n",
    "color_map = {4: 'red',7: 'orange', 8: 'gray'}  # Add more colors if needed\n",
    "\n",
    "# color_map = {1: 'purple', 2: 'yellow',\n",
    "#              3: 'pink',4: 'red', 5: 'blue', 6: 'green',\n",
    "#              7: 'orange', 8: 'gray'}\n",
    "plt.figure(figsize=(25, 15))\n",
    "for class_label in np.unique(y):\n",
    "    class_indices = y == class_label\n",
    "    plt.scatter(X_lda[class_indices, 0], X_lda[class_indices, 1], color=color_map[class_label], label=class_labels_mapping[class_label])\n",
    "\n",
    "plt.xlabel('LD1', fontsize=30)\n",
    "plt.xlim()\n",
    "\n",
    "plt.ylabel('LD2', fontsize=30)\n",
    "plt.xlim()\n",
    "plt.xticks(fontsize=30, rotation=45)\n",
    "plt.yticks(fontsize=30)\n",
    "plt.title('LDA Scatter Plot', fontsize=42)\n",
    "plt.legend(fontsize=16)\n",
    "plt.show()"
   ]
  },
  {
   "cell_type": "markdown",
   "id": "1e880ed8-4a98-4e43-8b50-47f3de99150f",
   "metadata": {},
   "source": [
    "## LDA Feature importance"
   ]
  },
  {
   "cell_type": "code",
   "execution_count": null,
   "id": "8e2ef07b-c046-498f-9830-00fc2e9bc1f6",
   "metadata": {},
   "outputs": [],
   "source": [
    "abs_scores = np.abs(separability_scores)\n",
    "\n",
    "# Calculate the sum of absolute scores\n",
    "sum_of_scores = np.sum(abs_scores)\n",
    "\n",
    "# Calculate the percent of each score relative to the sum of all scores\n",
    "percent_scores = (abs_scores / sum_of_scores) \n",
    "\n",
    "# Create a list of (feature, percent score) tuples\n",
    "feature_percent_scores = list(zip(f_name, percent_scores))\n",
    "\n",
    "# Sort features by their percent scores in descending order\n",
    "sorted_features = sorted(feature_percent_scores, key=lambda x: x[1], reverse=True)\n",
    "\n",
    "# Print the ranked features with their percent scores\n",
    "print(\"Ranked features based on percent of total:\\n\")\n",
    "\n",
    "for i, (feature, percent_score) in enumerate(sorted_features, start=1):\n",
    "    print(f\" {feature :<20} {percent_score:.6f}\")\n"
   ]
  }
 ],
 "metadata": {
  "kernelspec": {
   "display_name": "Python 3 (ipykernel)",
   "language": "python",
   "name": "python3"
  },
  "language_info": {
   "codemirror_mode": {
    "name": "ipython",
    "version": 3
   },
   "file_extension": ".py",
   "mimetype": "text/x-python",
   "name": "python",
   "nbconvert_exporter": "python",
   "pygments_lexer": "ipython3",
   "version": "3.10.12"
  }
 },
 "nbformat": 4,
 "nbformat_minor": 5
}
