{
 "cells": [
  {
   "cell_type": "markdown",
   "id": "ab6e0d9a-4682-4a45-b1ba-8dc830e4897a",
   "metadata": {},
   "source": [
    "## Sequential Feature Selection"
   ]
  },
  {
   "cell_type": "code",
   "execution_count": null,
   "id": "f1e80e84-0bdd-4c9d-b176-a57f29757f9d",
   "metadata": {},
   "outputs": [],
   "source": [
    "from mlxtend.feature_selection import SequentialFeatureSelector as SFS\n"
   ]
  },
  {
   "cell_type": "code",
   "execution_count": null,
   "id": "4321091f-8157-4a9c-93ba-956162221272",
   "metadata": {},
   "outputs": [],
   "source": [
    "sfs1 = SFS(best_model,\n",
    "           k_features =\"best\",\n",
    "            forward = True,\n",
    "            floating = False,\n",
    "            verbose = 0,\n",
    "            scoring = 'accuracy',\n",
    "            n_jobs= -1,\n",
    "            cv = 5)\n",
    "sfs1= sfs1.fit(X_train ,y_train )"
   ]
  },
  {
   "cell_type": "code",
   "execution_count": null,
   "id": "ff0fa642-a32b-4dea-8d59-134109659588",
   "metadata": {},
   "outputs": [],
   "source": [
    "sfs1.k_feature_idx_"
   ]
  },
  {
   "cell_type": "code",
   "execution_count": null,
   "id": "a233c228-a797-4ec5-ab77-6ddd6fdb179b",
   "metadata": {},
   "outputs": [],
   "source": [
    "metric_dic = sfs1.get_metric_dict(confidence_interval = 0.95)"
   ]
  },
  {
   "cell_type": "code",
   "execution_count": null,
   "id": "d088452b-b807-4fe4-b1ee-42b7f64e670e",
   "metadata": {},
   "outputs": [],
   "source": [
    "df =pd.DataFrame.from_dict(metric_dic).T"
   ]
  },
  {
   "cell_type": "code",
   "execution_count": null,
   "id": "8d442faf-7864-46a5-8220-ef46c3bf925a",
   "metadata": {},
   "outputs": [],
   "source": [
    "max_score = np.mean(max_inner_dict['cv_scores'])\n",
    "print (max_score )"
   ]
  },
  {
   "cell_type": "code",
   "execution_count": null,
   "id": "e809a055-7189-4991-83aa-736c5bc24d9e",
   "metadata": {},
   "outputs": [],
   "source": [
    "from mlxtend.plotting import plot_sequential_feature_selection as plot_sfs\n",
    "max_entry = max(metric_dic.items(), key=lambda x: np.max(x[1]['avg_score']))\n",
    "max_key, max_inner_dict = max_entry\n",
    "\n",
    "fig1 = plot_sfs(metric_dic, kind='std_dev', color='black')\n",
    "\n",
    "max_score = np.max(max_inner_dict['cv_scores'])\n",
    "min_score = np.min(max_inner_dict['cv_scores'])\n",
    "max_score_rounded = round(max_score, 2)\n",
    "min_score_rounded = round(min_score, 2)\n",
    "plt.scatter(max_key, max_score, color='red', marker='o', label=f'Max Score: {max_score_rounded}')\n",
    "plt.scatter(max_key, min_score, color='green', marker='o', label=f'Min Score: {min_score_rounded}')\n",
    "plt.title('Sequential Forward Selection')\n",
    "plt.xticks(np.arange(0, len(metric_dic) + 1, step=5))\n",
    "plt.grid()\n",
    "plt.legend()\n",
    "plt.show()"
   ]
  },
  {
   "cell_type": "code",
   "execution_count": null,
   "id": "70720505-1816-4ead-9748-f85563eeaffc",
   "metadata": {},
   "outputs": [],
   "source": [
    "selected_feature_indices = sfs1.k_feature_idx_\n",
    "\n",
    "# Printing the selected feature indices\n",
    "print(\"Selected feature indices:\")\n",
    "print(selected_feature_indices)"
   ]
  }
 ],
 "metadata": {
  "kernelspec": {
   "display_name": "Python 3 (ipykernel)",
   "language": "python",
   "name": "python3"
  },
  "language_info": {
   "codemirror_mode": {
    "name": "ipython",
    "version": 3
   },
   "file_extension": ".py",
   "mimetype": "text/x-python",
   "name": "python",
   "nbconvert_exporter": "python",
   "pygments_lexer": "ipython3",
   "version": "3.10.12"
  }
 },
 "nbformat": 4,
 "nbformat_minor": 5
}
