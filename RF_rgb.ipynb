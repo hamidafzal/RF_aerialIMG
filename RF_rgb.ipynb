{
 "cells": [
  {
   "cell_type": "markdown",
   "id": "863f7168",
   "metadata": {},
   "source": [
    "# Import Libraries"
   ]
  },
  {
   "cell_type": "code",
   "execution_count": null,
   "id": "39124b39-6477-4b68-a7ae-05797a720c1c",
   "metadata": {},
   "outputs": [],
   "source": [
    "# !pip install seaborn"
   ]
  },
  {
   "cell_type": "code",
   "execution_count": 1,
   "id": "d33ca398",
   "metadata": {},
   "outputs": [],
   "source": [
    "import numpy as np\n",
    "import pandas as pd\n",
    "from   osgeo import gdal\n",
    "from   sklearn.preprocessing import MinMaxScaler\n",
    "from   sklearn.discriminant_analysis import LinearDiscriminantAnalysis\n",
    "import skimage.feature\n",
    "import skimage.filters \n",
    "import skimage.morphology\n",
    "from   skimage import io\n",
    "import skimage.measure\n",
    "from   skimage.feature import graycomatrix, graycoprops"
   ]
  },
  {
   "cell_type": "code",
   "execution_count": 2,
   "id": "4e2b837b",
   "metadata": {},
   "outputs": [],
   "source": [
    "\n",
    "import time\n",
    "import matplotlib.pyplot as plt\n",
    "from  sklearn.ensemble import RandomForestClassifier\n",
    "from sklearn.model_selection import train_test_split , GridSearchCV\n",
    "from sklearn.metrics import classification_report\n",
    "from sklearn.metrics import accuracy_score\n",
    "from scipy.spatial.distance import squareform\n",
    "from skimage import exposure\n"
   ]
  },
  {
   "cell_type": "markdown",
   "id": "444c6cb7",
   "metadata": {},
   "source": [
    "# Read Image"
   ]
  },
  {
   "cell_type": "code",
   "execution_count": 35,
   "id": "f9f80f59",
   "metadata": {},
   "outputs": [
    {
     "name": "stdout",
     "output_type": "stream",
     "text": [
      "(-367700.0, 0.5, 0.0, -1187921.0, 0.0, -0.5)\n",
      "------------\n",
      "Number of Bands 18\n",
      "width 16836\n",
      "height 8679\n",
      "0.5\n",
      "0.5\n",
      "--------------\n"
     ]
    }
   ],
   "source": [
    "image_path = (r'IMG.tif')\n",
    "dataset = gdal.Open(image_path)\n",
    "image = dataset.ReadAsArray()\n",
    "gt = dataset.GetGeoTransform()\n",
    "\n",
    "X_size = gt[1]\n",
    "Y_size = -gt[5]\n",
    "width = dataset.RasterXSize\n",
    "height = dataset.RasterYSize\n",
    "num_bands = dataset.RasterCount\n",
    "\n",
    "print(gt)\n",
    "print ('------------')\n",
    "print ('Number of Bands', num_bands)\n",
    "print ('width', width)\n",
    "print('height', height)\n",
    "print(X_size)\n",
    "print (Y_size)\n",
    "print('--------------')\n"
   ]
  },
  {
   "cell_type": "code",
   "execution_count": 36,
   "id": "b583d177",
   "metadata": {},
   "outputs": [
    {
     "data": {
      "text/plain": [
       "(18, 8679, 16836)"
      ]
     },
     "execution_count": 36,
     "metadata": {},
     "output_type": "execute_result"
    }
   ],
   "source": [
    "image.shape"
   ]
  },
  {
   "cell_type": "markdown",
   "id": "69be1bdf",
   "metadata": {},
   "source": [
    "# Band Statistics"
   ]
  },
  {
   "cell_type": "code",
   "execution_count": 37,
   "id": "252cbd98",
   "metadata": {},
   "outputs": [
    {
     "name": "stdout",
     "output_type": "stream",
     "text": [
      "Band 1: Min = 0.0, Max  = 1.0\n",
      "Band 2: Min = 0.0, Max  = 1.0\n",
      "Band 3: Min = 0.0, Max  = 1.0\n",
      "Band 4: Min = 0.0, Max  = 1.0\n",
      "Band 5: Min = 0.0, Max  = 1.0\n",
      "Band 6: Min = 0.0, Max  = 1.0\n",
      "Band 7: Min = 0.0, Max  = 1.0\n",
      "Band 8: Min = 0.0, Max  = 1.0\n",
      "Band 9: Min = 0.0, Max  = 1.0\n",
      "Band 10: Min = 0.0, Max  = 1.0\n",
      "Band 11: Min = 0.0, Max  = 1.0\n",
      "Band 12: Min = 0.0, Max  = 1.0\n",
      "Band 13: Min = 0.0, Max  = 1.0\n",
      "Band 14: Min = 0.0, Max  = 1.0\n",
      "Band 15: Min = 0.0, Max  = 1.0\n",
      "Band 16: Min = 0.0, Max  = 1.0\n",
      "Band 17: Min = 0.0, Max  = 1.0\n",
      "Band 18: Min = 0.0, Max  = 1.0\n"
     ]
    }
   ],
   "source": [
    "num_bands, height, width = image.shape\n",
    "\n",
    "for band in range(num_bands):\n",
    "    min_value = np.min(image[band, :, :])\n",
    "    max_value = np.max(image[band, :, :])\n",
    "    print(f\"Band {band + 1}: Min = {min_value}, Max  = {max_value}\")"
   ]
  },
  {
   "cell_type": "markdown",
   "id": "68c525ff",
   "metadata": {},
   "source": [
    "# Read Samples"
   ]
  },
  {
   "cell_type": "code",
   "execution_count": 39,
   "id": "b4ab6635",
   "metadata": {},
   "outputs": [
    {
     "name": "stdout",
     "output_type": "stream",
     "text": [
      "(1019, 26)\n",
      "tat\n",
      "7    371\n",
      "4    339\n",
      "8    309\n",
      "Name: count, dtype: int64\n"
     ]
    },
    {
     "data": {
      "text/html": [
       "<div>\n",
       "<style scoped>\n",
       "    .dataframe tbody tr th:only-of-type {\n",
       "        vertical-align: middle;\n",
       "    }\n",
       "\n",
       "    .dataframe tbody tr th {\n",
       "        vertical-align: top;\n",
       "    }\n",
       "\n",
       "    .dataframe thead th {\n",
       "        text-align: right;\n",
       "    }\n",
       "</style>\n",
       "<table border=\"1\" class=\"dataframe\">\n",
       "  <thead>\n",
       "    <tr style=\"text-align: right;\">\n",
       "      <th></th>\n",
       "      <th>rand_point_id</th>\n",
       "      <th>OBJECTID</th>\n",
       "      <th>Id</th>\n",
       "      <th>tat</th>\n",
       "      <th>area</th>\n",
       "      <th>kontrola</th>\n",
       "      <th>Shape_Leng</th>\n",
       "      <th>Shape_Area</th>\n",
       "      <th>B1</th>\n",
       "      <th>B2</th>\n",
       "      <th>...</th>\n",
       "      <th>B9</th>\n",
       "      <th>B10</th>\n",
       "      <th>B11</th>\n",
       "      <th>B12</th>\n",
       "      <th>B13</th>\n",
       "      <th>B14</th>\n",
       "      <th>B15</th>\n",
       "      <th>B16</th>\n",
       "      <th>B17</th>\n",
       "      <th>B18</th>\n",
       "    </tr>\n",
       "  </thead>\n",
       "  <tbody>\n",
       "    <tr>\n",
       "      <th>0</th>\n",
       "      <td>0</td>\n",
       "      <td>197</td>\n",
       "      <td>0</td>\n",
       "      <td>4</td>\n",
       "      <td>74.764935</td>\n",
       "      <td>0</td>\n",
       "      <td>35.935776</td>\n",
       "      <td>74.7649</td>\n",
       "      <td>0.627451</td>\n",
       "      <td>0.689732</td>\n",
       "      <td>...</td>\n",
       "      <td>0.309398</td>\n",
       "      <td>0.812497</td>\n",
       "      <td>0.578740</td>\n",
       "      <td>0.721569</td>\n",
       "      <td>0.145098</td>\n",
       "      <td>0.645669</td>\n",
       "      <td>0.610236</td>\n",
       "      <td>0.686275</td>\n",
       "      <td>0.024038</td>\n",
       "      <td>0.076142</td>\n",
       "    </tr>\n",
       "    <tr>\n",
       "      <th>1</th>\n",
       "      <td>1</td>\n",
       "      <td>197</td>\n",
       "      <td>0</td>\n",
       "      <td>4</td>\n",
       "      <td>74.764935</td>\n",
       "      <td>0</td>\n",
       "      <td>35.935776</td>\n",
       "      <td>74.7649</td>\n",
       "      <td>0.780392</td>\n",
       "      <td>0.810268</td>\n",
       "      <td>...</td>\n",
       "      <td>0.377322</td>\n",
       "      <td>0.003662</td>\n",
       "      <td>0.693548</td>\n",
       "      <td>0.854902</td>\n",
       "      <td>0.184000</td>\n",
       "      <td>0.780877</td>\n",
       "      <td>0.766129</td>\n",
       "      <td>0.796078</td>\n",
       "      <td>0.040909</td>\n",
       "      <td>0.023529</td>\n",
       "    </tr>\n",
       "    <tr>\n",
       "      <th>4</th>\n",
       "      <td>4</td>\n",
       "      <td>197</td>\n",
       "      <td>0</td>\n",
       "      <td>4</td>\n",
       "      <td>74.764935</td>\n",
       "      <td>0</td>\n",
       "      <td>35.935776</td>\n",
       "      <td>74.7649</td>\n",
       "      <td>0.572549</td>\n",
       "      <td>0.600446</td>\n",
       "      <td>...</td>\n",
       "      <td>0.348424</td>\n",
       "      <td>0.499886</td>\n",
       "      <td>0.543307</td>\n",
       "      <td>0.670588</td>\n",
       "      <td>0.129412</td>\n",
       "      <td>0.598425</td>\n",
       "      <td>0.562992</td>\n",
       "      <td>0.635294</td>\n",
       "      <td>0.014423</td>\n",
       "      <td>0.081218</td>\n",
       "    </tr>\n",
       "    <tr>\n",
       "      <th>5</th>\n",
       "      <td>5</td>\n",
       "      <td>197</td>\n",
       "      <td>0</td>\n",
       "      <td>4</td>\n",
       "      <td>74.764935</td>\n",
       "      <td>0</td>\n",
       "      <td>35.935776</td>\n",
       "      <td>74.7649</td>\n",
       "      <td>0.701961</td>\n",
       "      <td>0.707589</td>\n",
       "      <td>...</td>\n",
       "      <td>0.531724</td>\n",
       "      <td>0.968811</td>\n",
       "      <td>0.551181</td>\n",
       "      <td>0.913725</td>\n",
       "      <td>0.364706</td>\n",
       "      <td>0.688976</td>\n",
       "      <td>0.598425</td>\n",
       "      <td>0.729412</td>\n",
       "      <td>0.129808</td>\n",
       "      <td>0.035533</td>\n",
       "    </tr>\n",
       "    <tr>\n",
       "      <th>6</th>\n",
       "      <td>6</td>\n",
       "      <td>197</td>\n",
       "      <td>0</td>\n",
       "      <td>4</td>\n",
       "      <td>74.764935</td>\n",
       "      <td>0</td>\n",
       "      <td>35.935776</td>\n",
       "      <td>74.7649</td>\n",
       "      <td>0.533333</td>\n",
       "      <td>0.569196</td>\n",
       "      <td>...</td>\n",
       "      <td>0.068820</td>\n",
       "      <td>0.123049</td>\n",
       "      <td>0.488189</td>\n",
       "      <td>0.564706</td>\n",
       "      <td>0.078431</td>\n",
       "      <td>0.523622</td>\n",
       "      <td>0.496063</td>\n",
       "      <td>0.541176</td>\n",
       "      <td>0.048077</td>\n",
       "      <td>0.010152</td>\n",
       "    </tr>\n",
       "  </tbody>\n",
       "</table>\n",
       "<p>5 rows × 26 columns</p>\n",
       "</div>"
      ],
      "text/plain": [
       "   rand_point_id  OBJECTID  Id  tat       area  kontrola  Shape_Leng  \\\n",
       "0              0       197   0    4  74.764935         0   35.935776   \n",
       "1              1       197   0    4  74.764935         0   35.935776   \n",
       "4              4       197   0    4  74.764935         0   35.935776   \n",
       "5              5       197   0    4  74.764935         0   35.935776   \n",
       "6              6       197   0    4  74.764935         0   35.935776   \n",
       "\n",
       "   Shape_Area        B1        B2  ...        B9       B10       B11  \\\n",
       "0     74.7649  0.627451  0.689732  ...  0.309398  0.812497  0.578740   \n",
       "1     74.7649  0.780392  0.810268  ...  0.377322  0.003662  0.693548   \n",
       "4     74.7649  0.572549  0.600446  ...  0.348424  0.499886  0.543307   \n",
       "5     74.7649  0.701961  0.707589  ...  0.531724  0.968811  0.551181   \n",
       "6     74.7649  0.533333  0.569196  ...  0.068820  0.123049  0.488189   \n",
       "\n",
       "        B12       B13       B14       B15       B16       B17       B18  \n",
       "0  0.721569  0.145098  0.645669  0.610236  0.686275  0.024038  0.076142  \n",
       "1  0.854902  0.184000  0.780877  0.766129  0.796078  0.040909  0.023529  \n",
       "4  0.670588  0.129412  0.598425  0.562992  0.635294  0.014423  0.081218  \n",
       "5  0.913725  0.364706  0.688976  0.598425  0.729412  0.129808  0.035533  \n",
       "6  0.564706  0.078431  0.523622  0.496063  0.541176  0.048077  0.010152  \n",
       "\n",
       "[5 rows x 26 columns]"
      ]
     },
     "execution_count": 39,
     "metadata": {},
     "output_type": "execute_result"
    }
   ],
   "source": [
    "samples = pd.read_csv(r'sample.csv')\n",
    "samples.dropna(inplace = True)\n",
    "print (samples.shape)\n",
    "class_count = samples['Value'].value_counts()\n",
    "print(class_count)\n",
    "samples.head(5)"
   ]
  },
  {
   "cell_type": "code",
   "execution_count": 40,
   "id": "584efa2f-1557-44c4-b4eb-946b476b8155",
   "metadata": {},
   "outputs": [],
   "source": [
    "\n",
    "f_name  = [\n",
    "      \"B1\",\"B2\", \"B3\", \"B4\", \"B5\", \"B6\", \"B7\", \n",
    "        \"B8\", \"B9\",\"B10\", \"B11\", \"B12\", \"B13\",\n",
    "          \"B14\",\"B15\", \"B16\", \"B17\", \"B18\"\n",
    "]\n",
    "\n",
    "\n",
    "label = \"value\"\n",
    "\n",
    "X = samples[f_name]\n",
    "y = samples[label]\n",
    "\n",
    "\n",
    "df = pd.concat([X, y], axis=1)\n",
    "df.dropna(inplace=True)\n",
    "\n",
    "# Separate the feature matrix X and the target variable y\n",
    "X = df[f_name]\n",
    "y = df[label]\n"
   ]
  },
  {
   "cell_type": "code",
   "execution_count": null,
   "id": "39261b0d",
   "metadata": {},
   "outputs": [],
   "source": []
  },
  {
   "cell_type": "markdown",
   "id": "bb2e0571",
   "metadata": {},
   "source": [
    "# Train the Model(Random Forest)"
   ]
  },
  {
   "cell_type": "code",
   "execution_count": 47,
   "id": "4076acbf",
   "metadata": {},
   "outputs": [
    {
     "data": {
      "text/html": [
       "<style>#sk-container-id-2 {color: black;}#sk-container-id-2 pre{padding: 0;}#sk-container-id-2 div.sk-toggleable {background-color: white;}#sk-container-id-2 label.sk-toggleable__label {cursor: pointer;display: block;width: 100%;margin-bottom: 0;padding: 0.3em;box-sizing: border-box;text-align: center;}#sk-container-id-2 label.sk-toggleable__label-arrow:before {content: \"▸\";float: left;margin-right: 0.25em;color: #696969;}#sk-container-id-2 label.sk-toggleable__label-arrow:hover:before {color: black;}#sk-container-id-2 div.sk-estimator:hover label.sk-toggleable__label-arrow:before {color: black;}#sk-container-id-2 div.sk-toggleable__content {max-height: 0;max-width: 0;overflow: hidden;text-align: left;background-color: #f0f8ff;}#sk-container-id-2 div.sk-toggleable__content pre {margin: 0.2em;color: black;border-radius: 0.25em;background-color: #f0f8ff;}#sk-container-id-2 input.sk-toggleable__control:checked~div.sk-toggleable__content {max-height: 200px;max-width: 100%;overflow: auto;}#sk-container-id-2 input.sk-toggleable__control:checked~label.sk-toggleable__label-arrow:before {content: \"▾\";}#sk-container-id-2 div.sk-estimator input.sk-toggleable__control:checked~label.sk-toggleable__label {background-color: #d4ebff;}#sk-container-id-2 div.sk-label input.sk-toggleable__control:checked~label.sk-toggleable__label {background-color: #d4ebff;}#sk-container-id-2 input.sk-hidden--visually {border: 0;clip: rect(1px 1px 1px 1px);clip: rect(1px, 1px, 1px, 1px);height: 1px;margin: -1px;overflow: hidden;padding: 0;position: absolute;width: 1px;}#sk-container-id-2 div.sk-estimator {font-family: monospace;background-color: #f0f8ff;border: 1px dotted black;border-radius: 0.25em;box-sizing: border-box;margin-bottom: 0.5em;}#sk-container-id-2 div.sk-estimator:hover {background-color: #d4ebff;}#sk-container-id-2 div.sk-parallel-item::after {content: \"\";width: 100%;border-bottom: 1px solid gray;flex-grow: 1;}#sk-container-id-2 div.sk-label:hover label.sk-toggleable__label {background-color: #d4ebff;}#sk-container-id-2 div.sk-serial::before {content: \"\";position: absolute;border-left: 1px solid gray;box-sizing: border-box;top: 0;bottom: 0;left: 50%;z-index: 0;}#sk-container-id-2 div.sk-serial {display: flex;flex-direction: column;align-items: center;background-color: white;padding-right: 0.2em;padding-left: 0.2em;position: relative;}#sk-container-id-2 div.sk-item {position: relative;z-index: 1;}#sk-container-id-2 div.sk-parallel {display: flex;align-items: stretch;justify-content: center;background-color: white;position: relative;}#sk-container-id-2 div.sk-item::before, #sk-container-id-2 div.sk-parallel-item::before {content: \"\";position: absolute;border-left: 1px solid gray;box-sizing: border-box;top: 0;bottom: 0;left: 50%;z-index: -1;}#sk-container-id-2 div.sk-parallel-item {display: flex;flex-direction: column;z-index: 1;position: relative;background-color: white;}#sk-container-id-2 div.sk-parallel-item:first-child::after {align-self: flex-end;width: 50%;}#sk-container-id-2 div.sk-parallel-item:last-child::after {align-self: flex-start;width: 50%;}#sk-container-id-2 div.sk-parallel-item:only-child::after {width: 0;}#sk-container-id-2 div.sk-dashed-wrapped {border: 1px dashed gray;margin: 0 0.4em 0.5em 0.4em;box-sizing: border-box;padding-bottom: 0.4em;background-color: white;}#sk-container-id-2 div.sk-label label {font-family: monospace;font-weight: bold;display: inline-block;line-height: 1.2em;}#sk-container-id-2 div.sk-label-container {text-align: center;}#sk-container-id-2 div.sk-container {/* jupyter's `normalize.less` sets `[hidden] { display: none; }` but bootstrap.min.css set `[hidden] { display: none !important; }` so we also need the `!important` here to be able to override the default hidden behavior on the sphinx rendered scikit-learn.org. See: https://github.com/scikit-learn/scikit-learn/issues/21755 */display: inline-block !important;position: relative;}#sk-container-id-2 div.sk-text-repr-fallback {display: none;}</style><div id=\"sk-container-id-2\" class=\"sk-top-container\"><div class=\"sk-text-repr-fallback\"><pre>RandomForestClassifier(random_state=42)</pre><b>In a Jupyter environment, please rerun this cell to show the HTML representation or trust the notebook. <br />On GitHub, the HTML representation is unable to render, please try loading this page with nbviewer.org.</b></div><div class=\"sk-container\" hidden><div class=\"sk-item\"><div class=\"sk-estimator sk-toggleable\"><input class=\"sk-toggleable__control sk-hidden--visually\" id=\"sk-estimator-id-2\" type=\"checkbox\" checked><label for=\"sk-estimator-id-2\" class=\"sk-toggleable__label sk-toggleable__label-arrow\">RandomForestClassifier</label><div class=\"sk-toggleable__content\"><pre>RandomForestClassifier(random_state=42)</pre></div></div></div></div></div>"
      ],
      "text/plain": [
       "RandomForestClassifier(random_state=42)"
      ]
     },
     "execution_count": 47,
     "metadata": {},
     "output_type": "execute_result"
    }
   ],
   "source": [
    "X_train , X_test ,y_train ,y_test = train_test_split(X ,y , test_size=0.2,\n",
    "                                                    random_state= 42)\n",
    "\n",
    "model = RandomForestClassifier(random_state= 42)\n",
    "model.fit(X_train , y_train)"
   ]
  },
  {
   "cell_type": "code",
   "execution_count": 48,
   "id": "202a84e6",
   "metadata": {},
   "outputs": [
    {
     "name": "stdout",
     "output_type": "stream",
     "text": [
      " B11                        0.202\n",
      " B15                        0.159\n",
      " B2                         0.123\n",
      " B14                        0.114\n",
      " B3                         0.101\n",
      " B16                        0.067\n",
      " B1                         0.058\n",
      " B13                        0.031\n",
      " B4                         0.021\n",
      " B12                        0.02\n",
      " B7                         0.017\n",
      " B9                         0.017\n",
      " B18                        0.016\n",
      " B5                         0.013\n",
      " B17                        0.013\n",
      " B8                         0.01\n",
      " B10                        0.009\n",
      " B6                         0.009\n"
     ]
    }
   ],
   "source": [
    "importances = model.feature_importances_\n",
    "\n",
    "# Sort the importances in descending order\n",
    "sorted_indices = sorted(range(len(importances)), key=lambda k: importances[k], reverse=True)\n",
    "sorted_features = [f_name[i] for i in sorted_indices]\n",
    "sorted_importances = [importances[i] for i in sorted_indices]\n",
    "\n",
    "# Print the sorted feature importances\n",
    "for feature, importance in zip(sorted_features, sorted_importances):\n",
    "    print(f\" {feature:<26} {round(importance,3)}\")\n"
   ]
  },
  {
   "cell_type": "code",
   "execution_count": 49,
   "id": "852eb8de-5dea-4577-a62e-b9df7b13ef4c",
   "metadata": {},
   "outputs": [
    {
     "data": {
      "text/plain": [
       "204"
      ]
     },
     "execution_count": 49,
     "metadata": {},
     "output_type": "execute_result"
    }
   ],
   "source": [
    "len(y_test)"
   ]
  },
  {
   "cell_type": "markdown",
   "id": "db207dc7",
   "metadata": {},
   "source": [
    "# Optimize Model Performances(Hyperparameter)"
   ]
  },
  {
   "cell_type": "code",
   "execution_count": 50,
   "id": "a39eb3c3",
   "metadata": {},
   "outputs": [
    {
     "name": "stdout",
     "output_type": "stream",
     "text": [
      "Execution Time: 23.16815447807312 seconds\n"
     ]
    }
   ],
   "source": [
    "s_time = time.time()\n",
    "\n",
    "param_grid = {'n_estimators': [100,200,300], 'max_depth': [5,10,None]}\n",
    "grid_search = GridSearchCV(model , param_grid= param_grid , cv = 5)\n",
    "grid_search.fit(X_train , y_train)\n",
    "\n",
    "best_model = grid_search.best_estimator_\n",
    "\n",
    "e_time = time.time()\n",
    "ex_time = e_time - s_time\n",
    "print ('Execution Time:', ex_time, \"seconds\")"
   ]
  },
  {
   "cell_type": "markdown",
   "id": "f10583c0",
   "metadata": {},
   "source": [
    "# Apply Best model on Image"
   ]
  },
  {
   "cell_type": "code",
   "execution_count": 59,
   "id": "4620d9f0",
   "metadata": {},
   "outputs": [
    {
     "name": "stdout",
     "output_type": "stream",
     "text": [
      "Execution time: 37.43722811539968 Minute\n"
     ]
    }
   ],
   "source": [
    "start_time = time.time()\n",
    "\n",
    "#  Apply RF on image\n",
    "image_reshaped = np.reshape(image, (image.shape[0], -1)).T\n",
    "predicted_classes = best_model.predict(image_reshaped)\n",
    "end_time = time.time()\n",
    "execution_time = end_time - start_time\n",
    "print(\"Execution time:\", execution_time/60, \"Minute\")\n"
   ]
  },
  {
   "cell_type": "markdown",
   "id": "75ecdd93",
   "metadata": {},
   "source": [
    "# Make predictions on the test set"
   ]
  },
  {
   "cell_type": "code",
   "execution_count": 60,
   "id": "2e1ea6b3-1484-48cd-bc9d-aecce404a252",
   "metadata": {
    "scrolled": true
   },
   "outputs": [
    {
     "name": "stdout",
     "output_type": "stream",
     "text": [
      "Model Accuracy: 0.8872549019607843\n",
      "Classification Report :               precision    recall  f1-score   support\n",
      "\n",
      "           4       1.00      1.00      1.00        66\n",
      "           7       0.86      0.84      0.85        77\n",
      "           8       0.81      0.82      0.81        61\n",
      "\n",
      "    accuracy                           0.89       204\n",
      "   macro avg       0.89      0.89      0.89       204\n",
      "weighted avg       0.89      0.89      0.89       204\n",
      "\n"
     ]
    }
   ],
   "source": [
    "s_time = time.time()\n",
    "\n",
    "predicted_map = np.reshape(predicted_classes, (height,width))\n",
    "y_predict = best_model.predict(X_test)\n",
    "accuracy = accuracy_score(y_test , y_predict)\n",
    "report = classification_report(y_test , y_predict)\n",
    "print( \"Model Accuracy:\", accuracy)\n",
    "print( \"Classification Report :\", report)"
   ]
  },
  {
   "cell_type": "markdown",
   "id": "bfaeb576",
   "metadata": {},
   "source": [
    "# Read G_truth vs predict_map"
   ]
  },
  {
   "cell_type": "code",
   "execution_count": null,
   "id": "503310cb",
   "metadata": {},
   "outputs": [],
   "source": [
    "classified_gt = pd.read_csv(r'gt.csv')\n",
    "print(classified_gt.shape)\n",
    "class_c = classified_gt['value'].value_counts()\n",
    "print(class_c)\n",
    "classified_gt.head(10)"
   ]
  },
  {
   "cell_type": "code",
   "execution_count": null,
   "id": "229dd34c",
   "metadata": {},
   "outputs": [],
   "source": [
    "csv_gt = classified_gt\n",
    "csv_gt = csv_gt.dropna()\n",
    "\n",
    "gt_labels = csv_gt['value']\n",
    "pre_labels = csv_gt['predicted']\n",
    "\n",
    "accuracy  = accuracy_score(gt_labels, pre_labels)\n",
    "print ('Accuracy:', accuracy)\n",
    "report = classification_report(gt_labels, pre_labels)\n",
    "print ('Classification Report:\\n', report)"
   ]
  },
  {
   "cell_type": "code",
   "execution_count": null,
   "id": "d8ac9ebd-57b3-4d1e-ae56-dc0a7cd63548",
   "metadata": {},
   "outputs": [],
   "source": [
    "from sklearn.metrics import confusion_matrix\n",
    "import matplotlib.pyplot as plt\n",
    "import seaborn as sns\n",
    "\n",
    "# Calculate confusion matrix\n",
    "conf_matrix = confusion_matrix(gt_labels, pre_labels)\n",
    "\n",
    "# Plot confusion matrix\n",
    "plt.figure(figsize=(8, 6))\n",
    "sns.heatmap(conf_matrix, annot=True, fmt='d', cmap='Blues', \n",
    "            xticklabels= ['Agriculture','Water_body','manage_f','settlement','natural_f','rangeland','dense_shrub'], \n",
    "            yticklabels= ['Agriculture','Water_body','manage_f','settlement','natural_f','rangeland','dense_shrub'])\n",
    "plt.xlabel('Predicted')\n",
    "plt.ylabel('Actual')\n",
    "plt.title('Confusion Matrix')\n",
    "plt.show()"
   ]
  },
  {
   "cell_type": "code",
   "execution_count": null,
   "id": "ef0a975e",
   "metadata": {},
   "outputs": [],
   "source": [
    "from sklearn.metrics import confusion_matrix,precision_score, recall_score, f1_score\n",
    "\n",
    "# Create a confusion matrix\n",
    "confusion = confusion_matrix(gt_labels, pre_labels)\n",
    "\n",
    "# Calculate commission, omission, and accuracy for each class\n",
    "classes = [ 0,1, 2, 3, 4, 5]\n",
    "for cls in classes:\n",
    "    # Calculate true positives\n",
    "    tp = confusion[cls, cls]\n",
    "\n",
    "    # Calculate false positives\n",
    "    fp = confusion[:, cls].sum() - tp\n",
    "\n",
    "    # Calculate false negatives\n",
    "    fn = confusion[cls, :].sum() - tp\n",
    "\n",
    "    # Calculate true negatives\n",
    "    tn = confusion.sum() - (tp + fp + fn)\n",
    "\n",
    "    # Calculate commission\n",
    "    commission = fp / (fp + tp)\n",
    "\n",
    "    # Calculate omission\n",
    "    omission = fn / (fn + tp)\n",
    "\n",
    "    # Calculate accuracy\n",
    "    accuracy = (tp + tn) / (tp + fp + fn + tn)\n",
    "\n",
    "    print(f\"Class {cls}:\")\n",
    "    print(f\"Commission: {commission}\")\n",
    "    print(f\"Omission: {omission}\")\n",
    "    print(f\"Accuracy: {accuracy}\")\n",
    "    print()"
   ]
  },
  {
   "cell_type": "code",
   "execution_count": null,
   "id": "e226f956",
   "metadata": {},
   "outputs": [],
   "source": [
    "classes = [1,2, 3, 4, 5,6]\n",
    "\n",
    "for cls in classes:\n",
    "    # Calculate precision\n",
    "    precision = precision_score(gt_labels, pre_labels, labels=[cls], average='micro')\n",
    "\n",
    "    # Calculate recall\n",
    "    recall = recall_score(gt_labels, pre_labels, labels=[cls], average='micro')\n",
    "\n",
    "    # Calculate F1 score\n",
    "    f1 = f1_score(gt_labels, pre_labels, labels=[cls], average='micro')\n",
    "\n",
    "    print(f\"Class {cls}:\")\n",
    "    print(f\"Precision: {precision}\")\n",
    "    print(f\"Recall: {recall}\")\n",
    "    print(f\"F1 Score: {f1}\")\n",
    "    print()"
   ]
  },
  {
   "cell_type": "code",
   "execution_count": null,
   "id": "a5f12050",
   "metadata": {},
   "outputs": [],
   "source": []
  },
  {
   "cell_type": "code",
   "execution_count": null,
   "id": "cab9490e",
   "metadata": {},
   "outputs": [],
   "source": []
  }
 ],
 "metadata": {
  "kernelspec": {
   "display_name": "Python 3 (ipykernel)",
   "language": "python",
   "name": "python3"
  },
  "language_info": {
   "codemirror_mode": {
    "name": "ipython",
    "version": 3
   },
   "file_extension": ".py",
   "mimetype": "text/x-python",
   "name": "python",
   "nbconvert_exporter": "python",
   "pygments_lexer": "ipython3",
   "version": "3.10.12"
  },
  "toc": {
   "base_numbering": 1,
   "nav_menu": {},
   "number_sections": true,
   "sideBar": true,
   "skip_h1_title": false,
   "title_cell": "Table of Contents",
   "title_sidebar": "Contents",
   "toc_cell": false,
   "toc_position": {},
   "toc_section_display": true,
   "toc_window_display": false
  }
 },
 "nbformat": 4,
 "nbformat_minor": 5
}
